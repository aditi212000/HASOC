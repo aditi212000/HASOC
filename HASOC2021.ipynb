{
  "nbformat": 4,
  "nbformat_minor": 0,
  "metadata": {
    "colab": {
      "name": "HASOC2021.ipynb",
      "provenance": [],
      "authorship_tag": "ABX9TyPbAWNd1Gw9lB7P4m59zOB1",
      "include_colab_link": true
    },
    "kernelspec": {
      "name": "python3",
      "display_name": "Python 3"
    },
    "language_info": {
      "name": "python"
    }
  },
  "cells": [
    {
      "cell_type": "markdown",
      "metadata": {
        "id": "view-in-github",
        "colab_type": "text"
      },
      "source": [
        "<a href=\"https://colab.research.google.com/github/aditi212000/HASOC/blob/main/HASOC2021.ipynb\" target=\"_parent\"><img src=\"https://colab.research.google.com/assets/colab-badge.svg\" alt=\"Open In Colab\"/></a>"
      ]
    },
    {
      "cell_type": "code",
      "metadata": {
        "colab": {
          "base_uri": "https://localhost:8080/"
        },
        "id": "OmRTHxa0o3s1",
        "outputId": "49cafd33-0476-41a0-bbc5-2614eef10769"
      },
      "source": [
        "!git clone https://github.com/aditi212000/HASOC.git"
      ],
      "execution_count": 175,
      "outputs": [
        {
          "output_type": "stream",
          "text": [
            "fatal: destination path 'HASOC' already exists and is not an empty directory.\n"
          ],
          "name": "stdout"
        }
      ]
    },
    {
      "cell_type": "code",
      "metadata": {
        "id": "qjVFqoHvpTN4"
      },
      "source": [
        "import pandas as pd"
      ],
      "execution_count": 176,
      "outputs": []
    },
    {
      "cell_type": "code",
      "metadata": {
        "id": "QxVWeiHSptcJ"
      },
      "source": [
        "data = pd.read_csv(\"/content/HASOC/dataset/hi_Hasoc2021_train.csv\")"
      ],
      "execution_count": 177,
      "outputs": []
    },
    {
      "cell_type": "code",
      "metadata": {
        "colab": {
          "base_uri": "https://localhost:8080/",
          "height": 359
        },
        "id": "eYdoYQ7Lp0x8",
        "outputId": "80d12dc2-16a1-4d3a-e8a6-7e4b618df2fd"
      },
      "source": [
        "data.head(10)"
      ],
      "execution_count": 178,
      "outputs": [
        {
          "output_type": "execute_result",
          "data": {
            "text/html": [
              "<div>\n",
              "<style scoped>\n",
              "    .dataframe tbody tr th:only-of-type {\n",
              "        vertical-align: middle;\n",
              "    }\n",
              "\n",
              "    .dataframe tbody tr th {\n",
              "        vertical-align: top;\n",
              "    }\n",
              "\n",
              "    .dataframe thead th {\n",
              "        text-align: right;\n",
              "    }\n",
              "</style>\n",
              "<table border=\"1\" class=\"dataframe\">\n",
              "  <thead>\n",
              "    <tr style=\"text-align: right;\">\n",
              "      <th></th>\n",
              "      <th>Unnamed: 0</th>\n",
              "      <th>_id</th>\n",
              "      <th>tweet_id</th>\n",
              "      <th>text</th>\n",
              "      <th>task_1</th>\n",
              "      <th>task_2</th>\n",
              "    </tr>\n",
              "  </thead>\n",
              "  <tbody>\n",
              "    <tr>\n",
              "      <th>0</th>\n",
              "      <td>998</td>\n",
              "      <td>60c5d7495659ea5e55df0b7b</td>\n",
              "      <td>hi_hasoc_2021_998</td>\n",
              "      <td>@rssurjewala #Hindus DYING #HindusLivesMatter ...</td>\n",
              "      <td>NOT</td>\n",
              "      <td>NONE</td>\n",
              "    </tr>\n",
              "    <tr>\n",
              "      <th>1</th>\n",
              "      <td>4049</td>\n",
              "      <td>60c5d7495659ea5e55df1b73</td>\n",
              "      <td>hi_hasoc_2021_4049</td>\n",
              "      <td>सब लोग इतने पैसे डोनेट ही कर रहे हैं फिर भी आम...</td>\n",
              "      <td>NOT</td>\n",
              "      <td>NONE</td>\n",
              "    </tr>\n",
              "    <tr>\n",
              "      <th>2</th>\n",
              "      <td>1757</td>\n",
              "      <td>60c5d7495659ea5e55df0d1b</td>\n",
              "      <td>hi_hasoc_2021_1757</td>\n",
              "      <td>शेर-ए- सिवान शहाबुद्दीन साहब से रिश्ता क्या  ل...</td>\n",
              "      <td>NOT</td>\n",
              "      <td>NONE</td>\n",
              "    </tr>\n",
              "    <tr>\n",
              "      <th>3</th>\n",
              "      <td>5175</td>\n",
              "      <td>60c5d7495659ea5e55df0e45</td>\n",
              "      <td>hi_hasoc_2021_5178</td>\n",
              "      <td>@AskAnshul आसमानी किताब के नाजायज औलाद है।</td>\n",
              "      <td>HOF</td>\n",
              "      <td>OFFN</td>\n",
              "    </tr>\n",
              "    <tr>\n",
              "      <th>4</th>\n",
              "      <td>1825</td>\n",
              "      <td>60c5d7495659ea5e55df0ee1</td>\n",
              "      <td>hi_hasoc_2021_1825</td>\n",
              "      <td>@Shikha0222 इसे कहते हैं दोगला पंती जिस सपा की...</td>\n",
              "      <td>NOT</td>\n",
              "      <td>NONE</td>\n",
              "    </tr>\n",
              "    <tr>\n",
              "      <th>5</th>\n",
              "      <td>5407</td>\n",
              "      <td>60c5d7495659ea5e55df13af</td>\n",
              "      <td>hi_hasoc_2021_5410</td>\n",
              "      <td>@Sandeep_News_24 बिहार की आम जनता को बहुत ही न...</td>\n",
              "      <td>HOF</td>\n",
              "      <td>HATE</td>\n",
              "    </tr>\n",
              "    <tr>\n",
              "      <th>6</th>\n",
              "      <td>5848</td>\n",
              "      <td>60c5d7495659ea5e55df1b22</td>\n",
              "      <td>hi_hasoc_2021_5852</td>\n",
              "      <td>यही तेरी असलियत है कि चोरी रोज करेगा खेत मे ले...</td>\n",
              "      <td>HOF</td>\n",
              "      <td>OFFN</td>\n",
              "    </tr>\n",
              "    <tr>\n",
              "      <th>7</th>\n",
              "      <td>5761</td>\n",
              "      <td>60c5d7495659ea5e55df1c1c</td>\n",
              "      <td>hi_hasoc_2021_5765</td>\n",
              "      <td>भोजपुरी का 2 टके का सिंगर किसी के लड़की का नाम...</td>\n",
              "      <td>HOF</td>\n",
              "      <td>HATE</td>\n",
              "    </tr>\n",
              "    <tr>\n",
              "      <th>8</th>\n",
              "      <td>3664</td>\n",
              "      <td>60c5d7495659ea5e55df1ad1</td>\n",
              "      <td>hi_hasoc_2021_3664</td>\n",
              "      <td>#MuddaGaramHai चुनाव नतीजों के बाद बंगाल में ज...</td>\n",
              "      <td>NOT</td>\n",
              "      <td>NONE</td>\n",
              "    </tr>\n",
              "    <tr>\n",
              "      <th>9</th>\n",
              "      <td>3331</td>\n",
              "      <td>60c5d7495659ea5e55df1701</td>\n",
              "      <td>hi_hasoc_2021_3331</td>\n",
              "      <td>@anushka_s2 मूर्ख लड़की</td>\n",
              "      <td>HOF</td>\n",
              "      <td>OFFN</td>\n",
              "    </tr>\n",
              "  </tbody>\n",
              "</table>\n",
              "</div>"
            ],
            "text/plain": [
              "   Unnamed: 0                       _id  ... task_1 task_2\n",
              "0         998  60c5d7495659ea5e55df0b7b  ...    NOT   NONE\n",
              "1        4049  60c5d7495659ea5e55df1b73  ...    NOT   NONE\n",
              "2        1757  60c5d7495659ea5e55df0d1b  ...    NOT   NONE\n",
              "3        5175  60c5d7495659ea5e55df0e45  ...    HOF   OFFN\n",
              "4        1825  60c5d7495659ea5e55df0ee1  ...    NOT   NONE\n",
              "5        5407  60c5d7495659ea5e55df13af  ...    HOF   HATE\n",
              "6        5848  60c5d7495659ea5e55df1b22  ...    HOF   OFFN\n",
              "7        5761  60c5d7495659ea5e55df1c1c  ...    HOF   HATE\n",
              "8        3664  60c5d7495659ea5e55df1ad1  ...    NOT   NONE\n",
              "9        3331  60c5d7495659ea5e55df1701  ...    HOF   OFFN\n",
              "\n",
              "[10 rows x 6 columns]"
            ]
          },
          "metadata": {
            "tags": []
          },
          "execution_count": 178
        }
      ]
    },
    {
      "cell_type": "code",
      "metadata": {
        "colab": {
          "base_uri": "https://localhost:8080/",
          "height": 52
        },
        "id": "_HocjC-Mp2hR",
        "outputId": "85351331-fcd2-4c77-dba3-cd93277f0642"
      },
      "source": [
        "data['text'][0]"
      ],
      "execution_count": 179,
      "outputs": [
        {
          "output_type": "execute_result",
          "data": {
            "application/vnd.google.colaboratory.intrinsic+json": {
              "type": "string"
            },
            "text/plain": [
              "'@rssurjewala #Hindus DYING #HindusLivesMatter   #KindAttnPMNarendraModi  #coronasecondwaveinindia #ModiMadeDisaster #ResignModi    #BJP #RSS LIARS   I WARNED 2 YRS BACK #RSSTerrorists BANNED BY SARDAR PATEL IGNORED  #शेर_नहीं_भेड़िया_पाल_लिया_भक्तो  #MautKaSaudagar'"
            ]
          },
          "metadata": {
            "tags": []
          },
          "execution_count": 179
        }
      ]
    },
    {
      "cell_type": "code",
      "metadata": {
        "colab": {
          "base_uri": "https://localhost:8080/",
          "height": 35
        },
        "id": "xCbT_Uu9UpMD",
        "outputId": "3ff4d6d3-d800-4d28-8056-003010302999"
      },
      "source": [
        "data['text'][100]"
      ],
      "execution_count": 180,
      "outputs": [
        {
          "output_type": "execute_result",
          "data": {
            "application/vnd.google.colaboratory.intrinsic+json": {
              "type": "string"
            },
            "text/plain": [
              "'सुना है ये मादरनीय D K bose @news24tvchannel के एंकर हैं। ट्विटर पर हैं क्या? #ChineseVirus #COVID19India https://t.co/4HlvfxyAaO'"
            ]
          },
          "metadata": {
            "tags": []
          },
          "execution_count": 180
        }
      ]
    },
    {
      "cell_type": "code",
      "metadata": {
        "id": "j-5mwt17YOHo"
      },
      "source": [
        "import inltk"
      ],
      "execution_count": 181,
      "outputs": []
    },
    {
      "cell_type": "code",
      "metadata": {
        "id": "ExzoxkUVYaAc"
      },
      "source": [
        "stopwords = ['', 'अर्थात', 'कुछ', 'तेरी', 'साबुत', 'अपनि', 'हूं', 'काफि', 'यिह', 'जा' ,'दे', 'देकर' ,'रह', 'कह' , 'कर' , 'कहा', 'बात' , 'जिन्हों', 'किर', 'कोई', 'हे', 'कोन', 'रहा', 'सब', 'सो', 'तक', 'इंहें', 'इसकि', 'अपनी', 'दबारा', 'सभि', 'होते', 'भीतर', 'निचे', 'घर', 'उन्हें', 'उन्ह' , 'मेरे' , 'था', 'व', 'इसमें', 'उसी', 'बिलकुल', 'होति', 'गया', 'सकता', 'अपना', 'लिये', 'उसका', 'पर', 'दवारा', 'गए', 'है', 'कितना', 'भि', 'लिए', 'वुह ', 'ना', 'किसि', 'परन्तु', 'किन्हें', 'बहुत', 'भी', 'तुम्हारे', 'निहायत', 'उन्हीं', 'वहिं', 'हैं', 'उन्हों', 'इतयादि','यहाँ', 'तब', 'पूरा', 'क्योंकि', 'कौनसा', 'आप', 'हुअ', 'ऐसे', 'एस', 'कारण', 'अप', 'पहले', 'तुम', 'जेसा', 'तिस', 'लेकिन', 'कहते', 'मगर', 'करता', 'संग', 'सभी', 'जीधर', 'किंहों', 'हि', 'द्वारा', 'हुआ', 'तू', 'जिंहें', 'उसने', 'पास', 'वहां', 'वह', 'किंहें', 'इंहों', 'मुझ', 'कुल', 'तिंहों', 'का', 'मेरी', 'तेरे', 'उनके', 'क्या', 'जहाँ', 'काफ़ी', 'वर्ग', 'वरग','बही', 'ये', 'जिस', 'इसि', 'हुई', 'साम्हने', 'नहिं', 'जैसे', 'वहीं', 'दिया', 'अभी', 'यहि', 'वग़ैरह', 'उनकि', 'न', 'जा','बनि', 'हें', 'यिह ', 'उन', 'को', 'तिन्हों', 'उन्होंने', 'तुझे', 'उसे', 'होने', 'इन्हीं', 'थे', 'उंहिं', 'अपने', 'में', 'फिर','यही', 'नीचे', 'होती', 'तिसे', 'हम', 'यदि', 'सारा', 'कर', 'सकते', 'कोइ', 'और', 'जिंहों', 'तिंहें', 'दूसरे', 'जब', 'रहे','अत', 'मानो', 'जिन', 'बाद', 'उनका', 'किया', 'या', 'उनकी', 'कौन', 'ऐसा', 'सबसे', 'अनुसार', 'दुसरे', 'इन', 'अदि','जिसे', 'उसकी', 'इत्यादि', 'करना', 'यहां', 'हुए', 'तेरा', 'आदि', 'पर  ', 'वाले', 'कहता', 'किन्हों', 'किसे', 'जिन्हें', 'मे','होता', 'करने', 'साभ', 'अभि', 'उसको', 'कई', 'बनी', 'के', 'इन्हें', 'वहाँ', 'कोनसा', 'कइ', 'इनका', 'थि', 'बाला','ऱ्वासा', 'हो', 'उंहें', 'दुसरा', 'वे', 'भितर', 'जेसे', 'एवं', 'अंदर', 'दो', 'साथ', 'करें', 'जिधर', 'तरह', 'उसि', 'इस', 'एसे', 'तिन', 'नहीं', 'से','न','उनको', 'किस', 'किसी', 'इसी', 'मैं', 'यह', 'हुइ', 'ले', 'कि', 'की', 'इसलिये', 'रवासा', 'ने', 'जैसा', 'वह ', 'तिन्हें', 'वुह', 'उस', 'उंहों', 'वगेरह', 'उसके', 'मुझे', 'करते', 'जितना', 'जहां', 'इन्हों', 'इसके', 'होना', 'इसका', 'इंहिं', 'एक', 'जो', 'पे', 'ही', 'तो', 'थी', 'रखें', 'इसे', 'इन ', 'के', 'बहि', 'पुरा', 'ओर', 'इसकी']"
      ],
      "execution_count": 182,
      "outputs": []
    },
    {
      "cell_type": "code",
      "metadata": {
        "id": "lAuWBXGRZa-6",
        "colab": {
          "base_uri": "https://localhost:8080/",
          "height": 35
        },
        "outputId": "76f44921-18d9-4788-f7ea-29e1d4055332"
      },
      "source": [
        "#Removing mentions\n",
        "import re\n",
        "my_str = 'hello @username hi'\n",
        "re.sub(\"@[A-Za-z0-9]+\",\"\",my_str)\n",
        "'hello  hi'"
      ],
      "execution_count": 183,
      "outputs": [
        {
          "output_type": "execute_result",
          "data": {
            "application/vnd.google.colaboratory.intrinsic+json": {
              "type": "string"
            },
            "text/plain": [
              "'hello  hi'"
            ]
          },
          "metadata": {
            "tags": []
          },
          "execution_count": 183
        }
      ]
    },
    {
      "cell_type": "code",
      "metadata": {
        "id": "yXJsP9LuagNF"
      },
      "source": [
        "import re"
      ],
      "execution_count": 184,
      "outputs": []
    },
    {
      "cell_type": "code",
      "metadata": {
        "id": "yNy71m3nanZH"
      },
      "source": [
        "for i in data['text']:\n",
        "  re.sub(\"@[A-Za-z0-9]+\",\"\",i)\n",
        "  re.sub(\"#[A-Za-z0-9]+\",\"\",i)"
      ],
      "execution_count": 185,
      "outputs": []
    },
    {
      "cell_type": "code",
      "metadata": {
        "colab": {
          "base_uri": "https://localhost:8080/",
          "height": 35
        },
        "id": "k-pF9ZCrbGU8",
        "outputId": "26a355b6-3c5f-431a-ecd5-e22775db4f63"
      },
      "source": [
        "i = data['text'][0]\n",
        "i = re.sub(\"@[A-Za-z0-9]+\",\"\",i)\n",
        "i = re.sub(\"#[A-Za-z0-9]+\",\"\",i)\n",
        "i"
      ],
      "execution_count": 186,
      "outputs": [
        {
          "output_type": "execute_result",
          "data": {
            "application/vnd.google.colaboratory.intrinsic+json": {
              "type": "string"
            },
            "text/plain": [
              "'  DYING              LIARS   I WARNED 2 YRS BACK  BANNED BY SARDAR PATEL IGNORED  #शेर_नहीं_भेड़िया_पाल_लिया_भक्तो  '"
            ]
          },
          "metadata": {
            "tags": []
          },
          "execution_count": 186
        }
      ]
    },
    {
      "cell_type": "code",
      "metadata": {
        "id": "zgIJL8RJbURe"
      },
      "source": [
        "data['hashtags'] = data['text'].apply(lambda x: re.findall(r\"#(\\w+)\", x))"
      ],
      "execution_count": 187,
      "outputs": []
    },
    {
      "cell_type": "code",
      "metadata": {
        "id": "LGjK5BlpbuOg",
        "colab": {
          "base_uri": "https://localhost:8080/",
          "height": 238
        },
        "outputId": "9430380c-aa45-4078-c632-4da8d9a21808"
      },
      "source": [
        "data.head(5)"
      ],
      "execution_count": 188,
      "outputs": [
        {
          "output_type": "execute_result",
          "data": {
            "text/html": [
              "<div>\n",
              "<style scoped>\n",
              "    .dataframe tbody tr th:only-of-type {\n",
              "        vertical-align: middle;\n",
              "    }\n",
              "\n",
              "    .dataframe tbody tr th {\n",
              "        vertical-align: top;\n",
              "    }\n",
              "\n",
              "    .dataframe thead th {\n",
              "        text-align: right;\n",
              "    }\n",
              "</style>\n",
              "<table border=\"1\" class=\"dataframe\">\n",
              "  <thead>\n",
              "    <tr style=\"text-align: right;\">\n",
              "      <th></th>\n",
              "      <th>Unnamed: 0</th>\n",
              "      <th>_id</th>\n",
              "      <th>tweet_id</th>\n",
              "      <th>text</th>\n",
              "      <th>task_1</th>\n",
              "      <th>task_2</th>\n",
              "      <th>hashtags</th>\n",
              "    </tr>\n",
              "  </thead>\n",
              "  <tbody>\n",
              "    <tr>\n",
              "      <th>0</th>\n",
              "      <td>998</td>\n",
              "      <td>60c5d7495659ea5e55df0b7b</td>\n",
              "      <td>hi_hasoc_2021_998</td>\n",
              "      <td>@rssurjewala #Hindus DYING #HindusLivesMatter ...</td>\n",
              "      <td>NOT</td>\n",
              "      <td>NONE</td>\n",
              "      <td>[Hindus, HindusLivesMatter, KindAttnPMNarendra...</td>\n",
              "    </tr>\n",
              "    <tr>\n",
              "      <th>1</th>\n",
              "      <td>4049</td>\n",
              "      <td>60c5d7495659ea5e55df1b73</td>\n",
              "      <td>hi_hasoc_2021_4049</td>\n",
              "      <td>सब लोग इतने पैसे डोनेट ही कर रहे हैं फिर भी आम...</td>\n",
              "      <td>NOT</td>\n",
              "      <td>NONE</td>\n",
              "      <td>[IndiaFightsCorona, indianeedoxygen, IndiaCovi...</td>\n",
              "    </tr>\n",
              "    <tr>\n",
              "      <th>2</th>\n",
              "      <td>1757</td>\n",
              "      <td>60c5d7495659ea5e55df0d1b</td>\n",
              "      <td>hi_hasoc_2021_1757</td>\n",
              "      <td>शेर-ए- सिवान शहाबुद्दीन साहब से रिश्ता क्या  ل...</td>\n",
              "      <td>NOT</td>\n",
              "      <td>NONE</td>\n",
              "      <td>[JusticeForShahabuddin]</td>\n",
              "    </tr>\n",
              "    <tr>\n",
              "      <th>3</th>\n",
              "      <td>5175</td>\n",
              "      <td>60c5d7495659ea5e55df0e45</td>\n",
              "      <td>hi_hasoc_2021_5178</td>\n",
              "      <td>@AskAnshul आसमानी किताब के नाजायज औलाद है।</td>\n",
              "      <td>HOF</td>\n",
              "      <td>OFFN</td>\n",
              "      <td>[]</td>\n",
              "    </tr>\n",
              "    <tr>\n",
              "      <th>4</th>\n",
              "      <td>1825</td>\n",
              "      <td>60c5d7495659ea5e55df0ee1</td>\n",
              "      <td>hi_hasoc_2021_1825</td>\n",
              "      <td>@Shikha0222 इसे कहते हैं दोगला पंती जिस सपा की...</td>\n",
              "      <td>NOT</td>\n",
              "      <td>NONE</td>\n",
              "      <td>[]</td>\n",
              "    </tr>\n",
              "  </tbody>\n",
              "</table>\n",
              "</div>"
            ],
            "text/plain": [
              "   Unnamed: 0  ...                                           hashtags\n",
              "0         998  ...  [Hindus, HindusLivesMatter, KindAttnPMNarendra...\n",
              "1        4049  ...  [IndiaFightsCorona, indianeedoxygen, IndiaCovi...\n",
              "2        1757  ...                            [JusticeForShahabuddin]\n",
              "3        5175  ...                                                 []\n",
              "4        1825  ...                                                 []\n",
              "\n",
              "[5 rows x 7 columns]"
            ]
          },
          "metadata": {
            "tags": []
          },
          "execution_count": 188
        }
      ]
    },
    {
      "cell_type": "code",
      "metadata": {
        "id": "TdlYTiAFbvqk",
        "colab": {
          "base_uri": "https://localhost:8080/",
          "height": 35
        },
        "outputId": "25bea159-afa9-442f-8fae-74ea9fcea04f"
      },
      "source": [
        "i = data['text'][0]\n",
        "i = re.sub(\"@[A-Za-z0-9]+\",\"\",i)\n",
        "i = re.sub(\"#[A-Za-z0-9]+\",\"\",i)\n",
        "i"
      ],
      "execution_count": 189,
      "outputs": [
        {
          "output_type": "execute_result",
          "data": {
            "application/vnd.google.colaboratory.intrinsic+json": {
              "type": "string"
            },
            "text/plain": [
              "'  DYING              LIARS   I WARNED 2 YRS BACK  BANNED BY SARDAR PATEL IGNORED  #शेर_नहीं_भेड़िया_पाल_लिया_भक्तो  '"
            ]
          },
          "metadata": {
            "tags": []
          },
          "execution_count": 189
        }
      ]
    },
    {
      "cell_type": "code",
      "metadata": {
        "id": "0ynPApc8nBHL"
      },
      "source": [
        "for i in data['text']:\n",
        "  i = re.sub(\"@[A-Za-z0-9]+\",\"\",i)\n",
        "  i = re.sub(\"#[A-Za-z0-9]+\",\"\",i)"
      ],
      "execution_count": 190,
      "outputs": []
    },
    {
      "cell_type": "code",
      "metadata": {
        "colab": {
          "base_uri": "https://localhost:8080/",
          "height": 238
        },
        "id": "sUrXUBKKnZb1",
        "outputId": "2bfe2ca3-0780-44ed-e0ee-fc9502a93f38"
      },
      "source": [
        "data.head(5)"
      ],
      "execution_count": 191,
      "outputs": [
        {
          "output_type": "execute_result",
          "data": {
            "text/html": [
              "<div>\n",
              "<style scoped>\n",
              "    .dataframe tbody tr th:only-of-type {\n",
              "        vertical-align: middle;\n",
              "    }\n",
              "\n",
              "    .dataframe tbody tr th {\n",
              "        vertical-align: top;\n",
              "    }\n",
              "\n",
              "    .dataframe thead th {\n",
              "        text-align: right;\n",
              "    }\n",
              "</style>\n",
              "<table border=\"1\" class=\"dataframe\">\n",
              "  <thead>\n",
              "    <tr style=\"text-align: right;\">\n",
              "      <th></th>\n",
              "      <th>Unnamed: 0</th>\n",
              "      <th>_id</th>\n",
              "      <th>tweet_id</th>\n",
              "      <th>text</th>\n",
              "      <th>task_1</th>\n",
              "      <th>task_2</th>\n",
              "      <th>hashtags</th>\n",
              "    </tr>\n",
              "  </thead>\n",
              "  <tbody>\n",
              "    <tr>\n",
              "      <th>0</th>\n",
              "      <td>998</td>\n",
              "      <td>60c5d7495659ea5e55df0b7b</td>\n",
              "      <td>hi_hasoc_2021_998</td>\n",
              "      <td>@rssurjewala #Hindus DYING #HindusLivesMatter ...</td>\n",
              "      <td>NOT</td>\n",
              "      <td>NONE</td>\n",
              "      <td>[Hindus, HindusLivesMatter, KindAttnPMNarendra...</td>\n",
              "    </tr>\n",
              "    <tr>\n",
              "      <th>1</th>\n",
              "      <td>4049</td>\n",
              "      <td>60c5d7495659ea5e55df1b73</td>\n",
              "      <td>hi_hasoc_2021_4049</td>\n",
              "      <td>सब लोग इतने पैसे डोनेट ही कर रहे हैं फिर भी आम...</td>\n",
              "      <td>NOT</td>\n",
              "      <td>NONE</td>\n",
              "      <td>[IndiaFightsCorona, indianeedoxygen, IndiaCovi...</td>\n",
              "    </tr>\n",
              "    <tr>\n",
              "      <th>2</th>\n",
              "      <td>1757</td>\n",
              "      <td>60c5d7495659ea5e55df0d1b</td>\n",
              "      <td>hi_hasoc_2021_1757</td>\n",
              "      <td>शेर-ए- सिवान शहाबुद्दीन साहब से रिश्ता क्या  ل...</td>\n",
              "      <td>NOT</td>\n",
              "      <td>NONE</td>\n",
              "      <td>[JusticeForShahabuddin]</td>\n",
              "    </tr>\n",
              "    <tr>\n",
              "      <th>3</th>\n",
              "      <td>5175</td>\n",
              "      <td>60c5d7495659ea5e55df0e45</td>\n",
              "      <td>hi_hasoc_2021_5178</td>\n",
              "      <td>@AskAnshul आसमानी किताब के नाजायज औलाद है।</td>\n",
              "      <td>HOF</td>\n",
              "      <td>OFFN</td>\n",
              "      <td>[]</td>\n",
              "    </tr>\n",
              "    <tr>\n",
              "      <th>4</th>\n",
              "      <td>1825</td>\n",
              "      <td>60c5d7495659ea5e55df0ee1</td>\n",
              "      <td>hi_hasoc_2021_1825</td>\n",
              "      <td>@Shikha0222 इसे कहते हैं दोगला पंती जिस सपा की...</td>\n",
              "      <td>NOT</td>\n",
              "      <td>NONE</td>\n",
              "      <td>[]</td>\n",
              "    </tr>\n",
              "  </tbody>\n",
              "</table>\n",
              "</div>"
            ],
            "text/plain": [
              "   Unnamed: 0  ...                                           hashtags\n",
              "0         998  ...  [Hindus, HindusLivesMatter, KindAttnPMNarendra...\n",
              "1        4049  ...  [IndiaFightsCorona, indianeedoxygen, IndiaCovi...\n",
              "2        1757  ...                            [JusticeForShahabuddin]\n",
              "3        5175  ...                                                 []\n",
              "4        1825  ...                                                 []\n",
              "\n",
              "[5 rows x 7 columns]"
            ]
          },
          "metadata": {
            "tags": []
          },
          "execution_count": 191
        }
      ]
    },
    {
      "cell_type": "code",
      "metadata": {
        "colab": {
          "base_uri": "https://localhost:8080/",
          "height": 238
        },
        "id": "le9hZoZ1olH5",
        "outputId": "4f2af0a5-3482-4ea9-803d-bb14e82570bf"
      },
      "source": [
        "temp = data['hashtags']\n",
        "data.drop(labels=['hashtags'], axis=1, inplace = True)\n",
        "data.insert(4, 'hashtags', temp)\n",
        "data.head(5)"
      ],
      "execution_count": 192,
      "outputs": [
        {
          "output_type": "execute_result",
          "data": {
            "text/html": [
              "<div>\n",
              "<style scoped>\n",
              "    .dataframe tbody tr th:only-of-type {\n",
              "        vertical-align: middle;\n",
              "    }\n",
              "\n",
              "    .dataframe tbody tr th {\n",
              "        vertical-align: top;\n",
              "    }\n",
              "\n",
              "    .dataframe thead th {\n",
              "        text-align: right;\n",
              "    }\n",
              "</style>\n",
              "<table border=\"1\" class=\"dataframe\">\n",
              "  <thead>\n",
              "    <tr style=\"text-align: right;\">\n",
              "      <th></th>\n",
              "      <th>Unnamed: 0</th>\n",
              "      <th>_id</th>\n",
              "      <th>tweet_id</th>\n",
              "      <th>text</th>\n",
              "      <th>hashtags</th>\n",
              "      <th>task_1</th>\n",
              "      <th>task_2</th>\n",
              "    </tr>\n",
              "  </thead>\n",
              "  <tbody>\n",
              "    <tr>\n",
              "      <th>0</th>\n",
              "      <td>998</td>\n",
              "      <td>60c5d7495659ea5e55df0b7b</td>\n",
              "      <td>hi_hasoc_2021_998</td>\n",
              "      <td>@rssurjewala #Hindus DYING #HindusLivesMatter ...</td>\n",
              "      <td>[Hindus, HindusLivesMatter, KindAttnPMNarendra...</td>\n",
              "      <td>NOT</td>\n",
              "      <td>NONE</td>\n",
              "    </tr>\n",
              "    <tr>\n",
              "      <th>1</th>\n",
              "      <td>4049</td>\n",
              "      <td>60c5d7495659ea5e55df1b73</td>\n",
              "      <td>hi_hasoc_2021_4049</td>\n",
              "      <td>सब लोग इतने पैसे डोनेट ही कर रहे हैं फिर भी आम...</td>\n",
              "      <td>[IndiaFightsCorona, indianeedoxygen, IndiaCovi...</td>\n",
              "      <td>NOT</td>\n",
              "      <td>NONE</td>\n",
              "    </tr>\n",
              "    <tr>\n",
              "      <th>2</th>\n",
              "      <td>1757</td>\n",
              "      <td>60c5d7495659ea5e55df0d1b</td>\n",
              "      <td>hi_hasoc_2021_1757</td>\n",
              "      <td>शेर-ए- सिवान शहाबुद्दीन साहब से रिश्ता क्या  ل...</td>\n",
              "      <td>[JusticeForShahabuddin]</td>\n",
              "      <td>NOT</td>\n",
              "      <td>NONE</td>\n",
              "    </tr>\n",
              "    <tr>\n",
              "      <th>3</th>\n",
              "      <td>5175</td>\n",
              "      <td>60c5d7495659ea5e55df0e45</td>\n",
              "      <td>hi_hasoc_2021_5178</td>\n",
              "      <td>@AskAnshul आसमानी किताब के नाजायज औलाद है।</td>\n",
              "      <td>[]</td>\n",
              "      <td>HOF</td>\n",
              "      <td>OFFN</td>\n",
              "    </tr>\n",
              "    <tr>\n",
              "      <th>4</th>\n",
              "      <td>1825</td>\n",
              "      <td>60c5d7495659ea5e55df0ee1</td>\n",
              "      <td>hi_hasoc_2021_1825</td>\n",
              "      <td>@Shikha0222 इसे कहते हैं दोगला पंती जिस सपा की...</td>\n",
              "      <td>[]</td>\n",
              "      <td>NOT</td>\n",
              "      <td>NONE</td>\n",
              "    </tr>\n",
              "  </tbody>\n",
              "</table>\n",
              "</div>"
            ],
            "text/plain": [
              "   Unnamed: 0                       _id  ... task_1 task_2\n",
              "0         998  60c5d7495659ea5e55df0b7b  ...    NOT   NONE\n",
              "1        4049  60c5d7495659ea5e55df1b73  ...    NOT   NONE\n",
              "2        1757  60c5d7495659ea5e55df0d1b  ...    NOT   NONE\n",
              "3        5175  60c5d7495659ea5e55df0e45  ...    HOF   OFFN\n",
              "4        1825  60c5d7495659ea5e55df0ee1  ...    NOT   NONE\n",
              "\n",
              "[5 rows x 7 columns]"
            ]
          },
          "metadata": {
            "tags": []
          },
          "execution_count": 192
        }
      ]
    },
    {
      "cell_type": "code",
      "metadata": {
        "id": "DcigKCSmo1zH"
      },
      "source": [
        "data.drop(labels=['Unnamed: 0','_id','tweet_id'], inplace=True, axis=1)"
      ],
      "execution_count": 193,
      "outputs": []
    },
    {
      "cell_type": "code",
      "metadata": {
        "colab": {
          "base_uri": "https://localhost:8080/",
          "height": 204
        },
        "id": "11hAO6XxqCpH",
        "outputId": "83559d47-8faa-433c-bdab-9da82e801e0d"
      },
      "source": [
        "data.head(5)"
      ],
      "execution_count": 194,
      "outputs": [
        {
          "output_type": "execute_result",
          "data": {
            "text/html": [
              "<div>\n",
              "<style scoped>\n",
              "    .dataframe tbody tr th:only-of-type {\n",
              "        vertical-align: middle;\n",
              "    }\n",
              "\n",
              "    .dataframe tbody tr th {\n",
              "        vertical-align: top;\n",
              "    }\n",
              "\n",
              "    .dataframe thead th {\n",
              "        text-align: right;\n",
              "    }\n",
              "</style>\n",
              "<table border=\"1\" class=\"dataframe\">\n",
              "  <thead>\n",
              "    <tr style=\"text-align: right;\">\n",
              "      <th></th>\n",
              "      <th>text</th>\n",
              "      <th>hashtags</th>\n",
              "      <th>task_1</th>\n",
              "      <th>task_2</th>\n",
              "    </tr>\n",
              "  </thead>\n",
              "  <tbody>\n",
              "    <tr>\n",
              "      <th>0</th>\n",
              "      <td>@rssurjewala #Hindus DYING #HindusLivesMatter ...</td>\n",
              "      <td>[Hindus, HindusLivesMatter, KindAttnPMNarendra...</td>\n",
              "      <td>NOT</td>\n",
              "      <td>NONE</td>\n",
              "    </tr>\n",
              "    <tr>\n",
              "      <th>1</th>\n",
              "      <td>सब लोग इतने पैसे डोनेट ही कर रहे हैं फिर भी आम...</td>\n",
              "      <td>[IndiaFightsCorona, indianeedoxygen, IndiaCovi...</td>\n",
              "      <td>NOT</td>\n",
              "      <td>NONE</td>\n",
              "    </tr>\n",
              "    <tr>\n",
              "      <th>2</th>\n",
              "      <td>शेर-ए- सिवान शहाबुद्दीन साहब से रिश्ता क्या  ل...</td>\n",
              "      <td>[JusticeForShahabuddin]</td>\n",
              "      <td>NOT</td>\n",
              "      <td>NONE</td>\n",
              "    </tr>\n",
              "    <tr>\n",
              "      <th>3</th>\n",
              "      <td>@AskAnshul आसमानी किताब के नाजायज औलाद है।</td>\n",
              "      <td>[]</td>\n",
              "      <td>HOF</td>\n",
              "      <td>OFFN</td>\n",
              "    </tr>\n",
              "    <tr>\n",
              "      <th>4</th>\n",
              "      <td>@Shikha0222 इसे कहते हैं दोगला पंती जिस सपा की...</td>\n",
              "      <td>[]</td>\n",
              "      <td>NOT</td>\n",
              "      <td>NONE</td>\n",
              "    </tr>\n",
              "  </tbody>\n",
              "</table>\n",
              "</div>"
            ],
            "text/plain": [
              "                                                text  ... task_2\n",
              "0  @rssurjewala #Hindus DYING #HindusLivesMatter ...  ...   NONE\n",
              "1  सब लोग इतने पैसे डोनेट ही कर रहे हैं फिर भी आम...  ...   NONE\n",
              "2  शेर-ए- सिवान शहाबुद्दीन साहब से रिश्ता क्या  ل...  ...   NONE\n",
              "3         @AskAnshul आसमानी किताब के नाजायज औलाद है।  ...   OFFN\n",
              "4  @Shikha0222 इसे कहते हैं दोगला पंती जिस सपा की...  ...   NONE\n",
              "\n",
              "[5 rows x 4 columns]"
            ]
          },
          "metadata": {
            "tags": []
          },
          "execution_count": 194
        }
      ]
    },
    {
      "cell_type": "code",
      "metadata": {
        "id": "2JEgjJpxrUPX"
      },
      "source": [
        "# stop=open('/content/HASOC/final_stopwords.txt')\n",
        "# stopwords=[]\n",
        "# for x in stop:\n",
        "#    stopwords.append(x)\n",
        "# stopwords\n",
        "\n",
        "file1 = open('/content/HASOC/final_stopwords.txt', 'r', encoding='utf-8')\n",
        "Lines = file1.readlines()\n",
        "stopwords=[]\n",
        "\n",
        "for line in Lines:\n",
        "    stopwords.append(line.strip())"
      ],
      "execution_count": 195,
      "outputs": []
    },
    {
      "cell_type": "code",
      "metadata": {
        "colab": {
          "base_uri": "https://localhost:8080/"
        },
        "id": "92OaL9GZxUlr",
        "outputId": "aa92d5d6-e8b3-4c69-91f8-ec2c1b39b261"
      },
      "source": [
        "stopwords"
      ],
      "execution_count": 196,
      "outputs": [
        {
          "output_type": "execute_result",
          "data": {
            "text/plain": [
              "['मैं',\n",
              " 'मुझको',\n",
              " 'मेरा',\n",
              " 'अपने आप को',\n",
              " 'हमने',\n",
              " 'हमारा',\n",
              " 'अपना',\n",
              " 'हम',\n",
              " 'आप',\n",
              " 'आपका',\n",
              " 'तुम्हारा',\n",
              " 'अपने आप',\n",
              " 'स्वयं',\n",
              " 'वह',\n",
              " 'इसे',\n",
              " 'उसके',\n",
              " 'खुद को',\n",
              " 'कि वह',\n",
              " 'उसकी',\n",
              " 'उसका',\n",
              " 'खुद ही',\n",
              " 'यह',\n",
              " 'इसके',\n",
              " 'उन्होने',\n",
              " 'अपने',\n",
              " 'क्या',\n",
              " 'जो',\n",
              " 'किसे',\n",
              " 'किसको',\n",
              " 'कि',\n",
              " 'ये',\n",
              " 'हूँ',\n",
              " 'होता है',\n",
              " 'रहे',\n",
              " 'थी',\n",
              " 'थे',\n",
              " 'होना',\n",
              " 'गया',\n",
              " 'किया जा रहा है',\n",
              " 'किया है',\n",
              " 'है',\n",
              " 'पडा',\n",
              " 'होने',\n",
              " 'करना',\n",
              " 'करता है',\n",
              " 'किया',\n",
              " 'रही',\n",
              " 'एक',\n",
              " 'लेकिन',\n",
              " 'अगर',\n",
              " 'या',\n",
              " 'क्यूंकि',\n",
              " 'जैसा',\n",
              " 'जब तक',\n",
              " 'जबकि',\n",
              " 'की',\n",
              " 'पर',\n",
              " 'द्वारा',\n",
              " 'के लिए',\n",
              " 'साथ',\n",
              " 'के बारे में',\n",
              " 'खिलाफ',\n",
              " 'बीच',\n",
              " 'में',\n",
              " 'के माध्यम से',\n",
              " 'दौरान',\n",
              " 'से पहले',\n",
              " 'के बाद',\n",
              " 'ऊपर',\n",
              " 'नीचे',\n",
              " 'को',\n",
              " 'से',\n",
              " 'तक',\n",
              " 'से नीचे',\n",
              " 'करने में',\n",
              " 'निकल',\n",
              " 'बंद',\n",
              " 'से अधिक',\n",
              " 'तहत',\n",
              " 'दुबारा',\n",
              " 'आगे',\n",
              " 'फिर',\n",
              " 'एक बार',\n",
              " 'यहाँ',\n",
              " 'वहाँ',\n",
              " 'कब',\n",
              " 'कहाँ',\n",
              " 'क्यों',\n",
              " 'कैसे',\n",
              " 'सारे',\n",
              " 'किसी',\n",
              " 'दोनो',\n",
              " 'प्रत्येक',\n",
              " 'ज्यादा',\n",
              " 'अधिकांश',\n",
              " 'अन्य',\n",
              " 'में कुछ',\n",
              " 'ऐसा',\n",
              " 'में कोई',\n",
              " 'मात्र',\n",
              " 'खुद',\n",
              " 'समान',\n",
              " 'इसलिए',\n",
              " 'बहुत',\n",
              " 'सकता',\n",
              " 'जायेंगे',\n",
              " 'जरा',\n",
              " 'चाहिए',\n",
              " 'अभी',\n",
              " 'और',\n",
              " 'कर दिया',\n",
              " 'रखें',\n",
              " 'का',\n",
              " 'हैं',\n",
              " 'इस',\n",
              " 'होता',\n",
              " 'करने',\n",
              " 'ने',\n",
              " 'बनी',\n",
              " 'तो',\n",
              " 'ही',\n",
              " 'हो',\n",
              " 'इसका',\n",
              " 'था',\n",
              " 'हुआ',\n",
              " 'वाले',\n",
              " 'बाद',\n",
              " 'लिए',\n",
              " 'सकते',\n",
              " 'इसमें',\n",
              " 'दो',\n",
              " 'वे',\n",
              " 'करते',\n",
              " 'कहा',\n",
              " 'वर्ग',\n",
              " 'कई',\n",
              " 'करें',\n",
              " 'होती',\n",
              " 'अपनी',\n",
              " 'उनके',\n",
              " 'यदि',\n",
              " 'हुई',\n",
              " 'जा',\n",
              " 'कहते',\n",
              " 'जब',\n",
              " 'होते',\n",
              " 'कोई',\n",
              " 'हुए',\n",
              " 'व',\n",
              " 'जैसे',\n",
              " 'सभी',\n",
              " 'करता',\n",
              " 'उनकी',\n",
              " 'तरह',\n",
              " 'उस',\n",
              " 'आदि',\n",
              " 'इसकी',\n",
              " 'उनका',\n",
              " 'इसी',\n",
              " 'पे',\n",
              " 'तथा',\n",
              " 'भी',\n",
              " 'परंतु',\n",
              " 'इन',\n",
              " 'कम',\n",
              " 'दूर',\n",
              " 'पूरे',\n",
              " 'गये',\n",
              " 'तुम',\n",
              " 'मै',\n",
              " 'यहां',\n",
              " 'हुये',\n",
              " 'कभी',\n",
              " 'अथवा',\n",
              " 'गयी',\n",
              " 'प्रति',\n",
              " 'जाता',\n",
              " 'इन्हें',\n",
              " 'गई',\n",
              " 'अब',\n",
              " 'जिसमें',\n",
              " 'लिया',\n",
              " 'बड़ा',\n",
              " 'जाती',\n",
              " 'तब',\n",
              " 'उसे',\n",
              " 'जाते',\n",
              " 'लेकर',\n",
              " 'बड़े',\n",
              " 'दूसरे',\n",
              " 'जाने',\n",
              " 'बाहर',\n",
              " 'स्थान',\n",
              " 'उन्हें',\n",
              " 'गए',\n",
              " 'ऐसे',\n",
              " 'जिससे',\n",
              " 'समय',\n",
              " 'दोनों',\n",
              " 'किए',\n",
              " 'रहती',\n",
              " 'इनके',\n",
              " 'इनका',\n",
              " 'इनकी',\n",
              " 'सकती',\n",
              " 'आज',\n",
              " 'कल',\n",
              " 'जिन्हें',\n",
              " 'जिन्हों',\n",
              " 'तिन्हें',\n",
              " 'तिन्हों',\n",
              " 'किन्हों',\n",
              " 'किन्हें',\n",
              " 'इत्यादि',\n",
              " 'इन्हों',\n",
              " 'उन्हों',\n",
              " 'बिलकुल',\n",
              " 'निहायत',\n",
              " 'इन्हीं',\n",
              " 'उन्हीं',\n",
              " 'जितना',\n",
              " 'दूसरा',\n",
              " 'कितना',\n",
              " 'साबुत',\n",
              " 'वग़ैरह',\n",
              " 'कौनसा',\n",
              " 'लिये',\n",
              " 'दिया',\n",
              " 'जिसे',\n",
              " 'तिसे',\n",
              " 'काफ़ी',\n",
              " 'पहले',\n",
              " 'बाला',\n",
              " 'मानो',\n",
              " 'अंदर',\n",
              " 'भीतर',\n",
              " 'पूरा',\n",
              " 'सारा',\n",
              " 'उनको',\n",
              " 'वहीं',\n",
              " 'जहाँ',\n",
              " 'जीधर',\n",
              " '\\ufeffके',\n",
              " 'एवं',\n",
              " 'कुछ',\n",
              " 'कुल',\n",
              " 'रहा',\n",
              " 'जिस',\n",
              " 'जिन',\n",
              " 'तिस',\n",
              " 'तिन',\n",
              " 'कौन',\n",
              " 'किस',\n",
              " 'संग',\n",
              " 'यही',\n",
              " 'बही',\n",
              " 'उसी',\n",
              " 'मगर',\n",
              " 'कर',\n",
              " 'मे',\n",
              " 'एस',\n",
              " 'उन',\n",
              " 'सो',\n",
              " 'अत']"
            ]
          },
          "metadata": {
            "tags": []
          },
          "execution_count": 196
        }
      ]
    },
    {
      "cell_type": "code",
      "metadata": {
        "id": "MGNZIiEGyz_N"
      },
      "source": [
        "import string"
      ],
      "execution_count": 197,
      "outputs": []
    },
    {
      "cell_type": "code",
      "metadata": {
        "id": "mVkIdYt_rOsU"
      },
      "source": [
        "def text_preproc(x):\n",
        "  x = ' '.join([word for word in x.split(' ') if word not in stopwords])\n",
        "  x = re.sub(r'https*\\S+', ' ', x)\n",
        "  x = re.sub(r'@\\S+', ' ', x)\n",
        "  x = re.sub(r'#\\S+', ' ', x)\n",
        "  x = [char for char in x if char not in string.punctuation or char != '।']\n",
        "  x = ''.join(x)\n",
        "  # x = re.sub(r'\\'\\w+', '', x)\n",
        "  # x = re.sub('[%s]' % re.escape(string.punctuation), ' ', x)\n",
        "  # x = re.sub(r'\\w*\\d+\\w*', '', x)\n",
        "  # x = re.sub(r'\\s{2,}', ' ', x)\n",
        "  return x"
      ],
      "execution_count": 198,
      "outputs": []
    },
    {
      "cell_type": "code",
      "metadata": {
        "id": "8hlxayGVn6c3"
      },
      "source": [
        "data['text'] = data['text'].apply(text_preproc)"
      ],
      "execution_count": 199,
      "outputs": []
    },
    {
      "cell_type": "code",
      "metadata": {
        "colab": {
          "base_uri": "https://localhost:8080/",
          "height": 204
        },
        "id": "8WK6nLqSu5Zg",
        "outputId": "0f0130da-d0c9-45f9-b57c-8c79a7f7c178"
      },
      "source": [
        "data.head(5)"
      ],
      "execution_count": 200,
      "outputs": [
        {
          "output_type": "execute_result",
          "data": {
            "text/html": [
              "<div>\n",
              "<style scoped>\n",
              "    .dataframe tbody tr th:only-of-type {\n",
              "        vertical-align: middle;\n",
              "    }\n",
              "\n",
              "    .dataframe tbody tr th {\n",
              "        vertical-align: top;\n",
              "    }\n",
              "\n",
              "    .dataframe thead th {\n",
              "        text-align: right;\n",
              "    }\n",
              "</style>\n",
              "<table border=\"1\" class=\"dataframe\">\n",
              "  <thead>\n",
              "    <tr style=\"text-align: right;\">\n",
              "      <th></th>\n",
              "      <th>text</th>\n",
              "      <th>hashtags</th>\n",
              "      <th>task_1</th>\n",
              "      <th>task_2</th>\n",
              "    </tr>\n",
              "  </thead>\n",
              "  <tbody>\n",
              "    <tr>\n",
              "      <th>0</th>\n",
              "      <td>DYING                     LIARS   I WARNED...</td>\n",
              "      <td>[Hindus, HindusLivesMatter, KindAttnPMNarendra...</td>\n",
              "      <td>NOT</td>\n",
              "      <td>NONE</td>\n",
              "    </tr>\n",
              "    <tr>\n",
              "      <th>1</th>\n",
              "      <td>सब लोग इतने पैसे डोनेट आम आदमी सिलेंडर कन्सेंट...</td>\n",
              "      <td>[IndiaFightsCorona, indianeedoxygen, IndiaCovi...</td>\n",
              "      <td>NOT</td>\n",
              "      <td>NONE</td>\n",
              "    </tr>\n",
              "    <tr>\n",
              "      <th>2</th>\n",
              "      <td>शेर-ए- सिवान शहाबुद्दीन साहब रिश्ता  لا إله إل...</td>\n",
              "      <td>[JusticeForShahabuddin]</td>\n",
              "      <td>NOT</td>\n",
              "      <td>NONE</td>\n",
              "    </tr>\n",
              "    <tr>\n",
              "      <th>3</th>\n",
              "      <td>आसमानी किताब के नाजायज औलाद है।</td>\n",
              "      <td>[]</td>\n",
              "      <td>HOF</td>\n",
              "      <td>OFFN</td>\n",
              "    </tr>\n",
              "    <tr>\n",
              "      <th>4</th>\n",
              "      <td>दोगला पंती सपा दम 0 10 सफर माया इज्ज़त बचा प...</td>\n",
              "      <td>[]</td>\n",
              "      <td>NOT</td>\n",
              "      <td>NONE</td>\n",
              "    </tr>\n",
              "  </tbody>\n",
              "</table>\n",
              "</div>"
            ],
            "text/plain": [
              "                                                text  ... task_2\n",
              "0      DYING                     LIARS   I WARNED...  ...   NONE\n",
              "1  सब लोग इतने पैसे डोनेट आम आदमी सिलेंडर कन्सेंट...  ...   NONE\n",
              "2  शेर-ए- सिवान शहाबुद्दीन साहब रिश्ता  لا إله إل...  ...   NONE\n",
              "3                    आसमानी किताब के नाजायज औलाद है।  ...   OFFN\n",
              "4    दोगला पंती सपा दम 0 10 सफर माया इज्ज़त बचा प...  ...   NONE\n",
              "\n",
              "[5 rows x 4 columns]"
            ]
          },
          "metadata": {
            "tags": []
          },
          "execution_count": 200
        }
      ]
    },
    {
      "cell_type": "code",
      "metadata": {
        "colab": {
          "base_uri": "https://localhost:8080/",
          "height": 35
        },
        "id": "2gD2_cYJvdQC",
        "outputId": "bcfe6343-1ff2-482d-8641-7a335bf62c28"
      },
      "source": [
        "data['text'][100]"
      ],
      "execution_count": 203,
      "outputs": [
        {
          "output_type": "execute_result",
          "data": {
            "application/vnd.google.colaboratory.intrinsic+json": {
              "type": "string"
            },
            "text/plain": [
              "'सुना मादरनीय D K bose   के एंकर हैं। ट्विटर क्या?      '"
            ]
          },
          "metadata": {
            "tags": []
          },
          "execution_count": 203
        }
      ]
    },
    {
      "cell_type": "code",
      "metadata": {
        "id": "j-VOoQ_wviH5"
      },
      "source": [
        "data.to_csv('/content/HASOC/dataset/data_withhashtags.csv')"
      ],
      "execution_count": 204,
      "outputs": []
    },
    {
      "cell_type": "code",
      "metadata": {
        "id": "wkAGoOfH1PlE"
      },
      "source": [
        "data.drop('hashtags', inplace=True, axis=1)"
      ],
      "execution_count": 205,
      "outputs": []
    },
    {
      "cell_type": "code",
      "metadata": {
        "id": "jQ4hwyDy1WOX"
      },
      "source": [
        "data.to_csv('/content/HASOC/dataset/data_withouthashtags.csv')"
      ],
      "execution_count": 206,
      "outputs": []
    },
    {
      "cell_type": "code",
      "metadata": {
        "colab": {
          "base_uri": "https://localhost:8080/"
        },
        "id": "pJT5JyZp1cHA",
        "outputId": "8e6bee3d-1d61-4d8b-a4dc-0667625d3ae4"
      },
      "source": [
        "!git add"
      ],
      "execution_count": 208,
      "outputs": [
        {
          "output_type": "stream",
          "text": [
            "fatal: not a git repository (or any of the parent directories): .git\n"
          ],
          "name": "stdout"
        }
      ]
    },
    {
      "cell_type": "code",
      "metadata": {
        "id": "mdbUpIIE2Rz4"
      },
      "source": [
        ""
      ],
      "execution_count": null,
      "outputs": []
    }
  ]
}